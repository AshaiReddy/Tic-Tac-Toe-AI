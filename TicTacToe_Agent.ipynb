{
 "cells": [
  {
   "cell_type": "markdown",
   "metadata": {
    "colab_type": "text",
    "id": "rznSDgbvGggG"
   },
   "source": [
    "## Tic-Tac-Toe Agent\n",
    "​\n",
    "In this notebook, you will learn to build an RL agent (using Q-learning) that learns to play Numerical Tic-Tac-Toe with odd numbers. The environment is playing randomly with the agent, i.e. its strategy is to put an even number randomly in an empty cell. The following is the layout of the notebook:\n",
    "        - Defining epsilon-greedy strategy\n",
    "        - Tracking state-action pairs for convergence\n",
    "        - Define hyperparameters for the Q-learning algorithm\n",
    "        - Generating episode and applying Q-update equation\n",
    "        - Checking convergence in Q-values"
   ]
  },
  {
   "cell_type": "markdown",
   "metadata": {
    "colab_type": "text",
    "id": "8eDb8PxBGggH"
   },
   "source": [
    "### Importing libraries\n",
    "Write the code to import Tic-Tac-Toe class from the environment file"
   ]
  },
  {
   "cell_type": "code",
   "execution_count": 1,
   "metadata": {
    "colab": {},
    "colab_type": "code",
    "id": "6SFNYceFGggJ"
   },
   "outputs": [],
   "source": [
    "from TCGame_Env1 import TicTacToe # import your class from environment file\n",
    "import collections\n",
    "import numpy as np\n",
    "import random\n",
    "import pickle\n",
    "import time\n",
    "from matplotlib import pyplot as plt"
   ]
  },
  {
   "cell_type": "code",
   "execution_count": 2,
   "metadata": {
    "colab": {},
    "colab_type": "code",
    "id": "wYLQyopEG8nz"
   },
   "outputs": [],
   "source": [
    "# Function to convert state array into a string to store it as keys in the dictionary\n",
    "# states in Q-dictionary will be of form: x-4-5-3-8-x-x-x-x\n",
    "#   x | 4 | 5\n",
    "#   ----------\n",
    "#   3 | 8 | x\n",
    "#   ----------\n",
    "#   x | x | x\n",
    "\n",
    "def Q_state(state):\n",
    "\n",
    "    return ('-'.join(str(e) for e in state)).replace('nan','x')"
   ]
  },
  {
   "cell_type": "code",
   "execution_count": 3,
   "metadata": {
    "colab": {},
    "colab_type": "code",
    "id": "ZebMOoiVHBBr"
   },
   "outputs": [],
   "source": [
    "# Defining a function which will return valid (all possible actions) actions corresponding to a state\n",
    "# Important to avoid errors during deployment.\n",
    "\n",
    "def valid_actions(state):\n",
    "\n",
    "    valid_Actions = []\n",
    "    \n",
    "    valid_Actions = [i for i in env.action_space(state)[0]] ###### -------please call your environment as env\n",
    "    return valid_Actions"
   ]
  },
  {
   "cell_type": "code",
   "execution_count": 4,
   "metadata": {
    "colab": {},
    "colab_type": "code",
    "id": "IRciPUkYHDWf"
   },
   "outputs": [],
   "source": [
    "# Defining a function which will add new Q-values to the Q-dictionary. \n",
    "def add_to_dict(state):\n",
    "    state1 = Q_state(state)\n",
    "    \n",
    "    valid_act = valid_actions(state)\n",
    "    if state1 not in Q_dict.keys():\n",
    "        for action in valid_act:\n",
    "            Q_dict[state1][action]=0"
   ]
  },
  {
   "cell_type": "markdown",
   "metadata": {
    "colab_type": "text",
    "id": "fNNi_EfHGggM"
   },
   "source": [
    "### Epsilon-greedy strategy \n",
    "\n",
    "(you can build your epsilon-decay function similar to the one given at the end of the notebook)"
   ]
  },
  {
   "cell_type": "code",
   "execution_count": 5,
   "metadata": {
    "colab": {},
    "colab_type": "code",
    "id": "m0lMfqiJGggN"
   },
   "outputs": [],
   "source": [
    "# Defining epsilon-greedy policy. You can choose any function epsilon-decay strategy\n",
    "def epsilon_greedy(state, time):\n",
    "    epsilon = min_epsilon + (max_epsilon - min_epsilon) * np.exp(-decay_rate*time)\n",
    "    z = np.random.random()\n",
    "        \n",
    "    if z > epsilon:\n",
    "        inter_state = Q_state(state)\n",
    "        action = max(Q_dict[inter_state],key=Q_dict[inter_state].get)   #Exploitation: this gets the action corresponding to max q-value of current state\n",
    "    else:\n",
    "        possible_moves = [i for i in env.action_space(state)[0]]        \n",
    "        action = possible_moves[np.random.choice(range(len(possible_moves)))]    #Exploration: randomly choosing and action\n",
    "    \n",
    "    return action"
   ]
  },
  {
   "cell_type": "markdown",
   "metadata": {
    "colab_type": "text",
    "id": "H2kyQHOMGggR"
   },
   "source": [
    "### Tracking the state-action pairs for checking convergence "
   ]
  },
  {
   "cell_type": "code",
   "execution_count": 6,
   "metadata": {
    "colab": {},
    "colab_type": "code",
    "id": "qcxZ29vdGggS"
   },
   "outputs": [
    {
     "name": "stdout",
     "output_type": "stream",
     "text": [
      "0\n",
      "0\n"
     ]
    }
   ],
   "source": [
    "# Initialise Q_dictionary as 'Q_dict' and States_tracked as 'States_track' (for convergence)\n",
    "Q_dict = collections.defaultdict(dict)\n",
    "States_track = collections.defaultdict(dict)\n",
    "print(len(Q_dict))\n",
    "print(len(States_track))"
   ]
  },
  {
   "cell_type": "code",
   "execution_count": 7,
   "metadata": {
    "colab": {},
    "colab_type": "code",
    "id": "vs73iv8fHOxV"
   },
   "outputs": [],
   "source": [
    "# Initialise states to be tracked\n",
    "def initialise_tracking_states():\n",
    "    sample_q_values =  [\n",
    "        ('x-x-x-x-x-x-x-x-x',(1,1)),\n",
    "        ('x-x-x-x-x-x-x-x-x',(2,3)),\n",
    "        ('x-8-x-x-x-1-x-x-x',(4,5)),\n",
    "        ('x-4-5-x-x-x-x-x-x',(5,3))]\n",
    "    for q_values in sample_q_values:\n",
    "        state = q_values[0]\n",
    "        action = q_values[1]\n",
    "        #this is an array which will have appended values of that state-action pair for every 200th episode\n",
    "        States_track[state][action] = []    "
   ]
  },
  {
   "cell_type": "code",
   "execution_count": 8,
   "metadata": {
    "colab": {},
    "colab_type": "code",
    "id": "dAbwJDMVHpwl"
   },
   "outputs": [],
   "source": [
    "#Defining a function to save the Q-dictionary as a pickle file\n",
    "\n",
    "def save_obj(obj, name ):\n",
    "    with open(name + '.pkl', 'wb') as f:\n",
    "        pickle.dump(obj, f, pickle.HIGHEST_PROTOCOL)"
   ]
  },
  {
   "cell_type": "code",
   "execution_count": 9,
   "metadata": {
    "colab": {},
    "colab_type": "code",
    "id": "6Pyj7nMVHsBi"
   },
   "outputs": [],
   "source": [
    "def save_tracking_states():\n",
    "    for state in States_track.keys():\n",
    "        for action in States_track[state].keys():\n",
    "            if state in Q_dict and action in Q_dict[state]:\n",
    "                States_track[state][action].append(Q_dict[state][action])"
   ]
  },
  {
   "cell_type": "code",
   "execution_count": 10,
   "metadata": {},
   "outputs": [],
   "source": [
    "initialise_tracking_states()"
   ]
  },
  {
   "cell_type": "markdown",
   "metadata": {
    "colab_type": "text",
    "id": "-iPt--E9GggV"
   },
   "source": [
    "### Define hyperparameters  "
   ]
  },
  {
   "cell_type": "code",
   "execution_count": 11,
   "metadata": {
    "colab": {},
    "colab_type": "code",
    "id": "G0_f5czFGggW"
   },
   "outputs": [],
   "source": [
    "EPISODES =  5000000             # No of Episode - 5 million Episodes\n",
    "LR = 0.001                   # Learning rate\n",
    "GAMMA = 0.95                 # Discount factor\n",
    "\n",
    "max_epsilon = 1.0\n",
    "min_epsilon = 0.01\n",
    "decay_rate = 0.00001        # epsilon decay rate\n",
    "threshold = 200            \n",
    "policy_threshold = 10000"
   ]
  },
  {
   "cell_type": "markdown",
   "metadata": {
    "colab_type": "text",
    "id": "Md6twJ7wGggh"
   },
   "source": [
    "### Q-update loop "
   ]
  },
  {
   "cell_type": "code",
   "execution_count": 12,
   "metadata": {
    "colab": {},
    "colab_type": "code",
    "id": "hhdWewc4Gggo"
   },
   "outputs": [
    {
     "name": "stderr",
     "output_type": "stream",
     "text": [
      "100%|██████████| 5000000/5000000 [1:36:08<00:00, 866.82it/s]  \n"
     ]
    },
    {
     "name": "stdout",
     "output_type": "stream",
     "text": [
      "5768.449069738388\n"
     ]
    }
   ],
   "source": [
    "start_time = time.time()\n",
    "from tqdm import tqdm\n",
    "\n",
    "deltas = []\n",
    "for episode in tqdm(range(EPISODES)):\n",
    "    env = TicTacToe()      #creating an instance of the class TicTacToe\n",
    "    curr_state = env.state\n",
    "    add_to_dict(curr_state)\n",
    "    terminal_t_f = False\n",
    "    reward = None\n",
    "    total_reward = 0\n",
    "    while terminal_t_f != True: \n",
    "        \n",
    "        curr_state_string = Q_state(curr_state)\n",
    "        curr_action = epsilon_greedy(curr_state, episode)\n",
    "        \n",
    "        next_state, reward, terminal_t_f = env.step(curr_state, curr_action)\n",
    "        next_state_string = Q_state(next_state)\n",
    "        add_to_dict(next_state)\n",
    "        \n",
    "        if terminal_t_f != True:\n",
    "            # UPDATE RULE\n",
    "            max_next =  max(Q_dict[next_state_string],key=Q_dict[next_state_string].get)   #this gets the action corresponding to max q-value of next state\n",
    "            Q_dict[curr_state_string][curr_action] += LR * ((reward + (GAMMA*(Q_dict[curr_state_string][max_next]))) - Q_dict[curr_state_string][curr_action] ) \n",
    "            #print(Q_dict[curr_state_string][curr_action])\n",
    "        else:\n",
    "            Q_dict[curr_state_string][curr_action] += LR * ((reward - Q_dict[curr_state_string][curr_action]))\n",
    "            #print(Q_dict[curr_state_string][curr_action])\n",
    "        \n",
    "        curr_state = next_state\n",
    "        total_reward += reward\n",
    "        deltas.append(max_next)\n",
    "    \n",
    "    #TRACKING Q-VALUES\n",
    "    if (episode == threshold-1):       \n",
    "        initialise_tracking_states()\n",
    "    if ((episode+1) % threshold) == 0:          #every 200 episodes, the Q-dict - States_track will be saved\n",
    "        save_tracking_states()\n",
    "        save_obj(States_track,'States_tracked')   \n",
    "    #SAVING POLICY\n",
    "    if ((episode+1)% policy_threshold ) == 0:  #every 10000 episodes, the Q-dict - Policy will be saved\n",
    "        save_obj(Q_dict,'Policy')    \n",
    "\n",
    "\n",
    "elapsed_time = time.time() - start_time\n",
    "save_obj(States_track, 'States_tracked')\n",
    "save_obj(Q_dict, 'Policy')\n",
    "print(elapsed_time)"
   ]
  },
  {
   "cell_type": "markdown",
   "metadata": {
    "colab_type": "text",
    "id": "t6eMFbb8Ggg2"
   },
   "source": [
    "#### Check the Q-dictionary"
   ]
  },
  {
   "cell_type": "code",
   "execution_count": 13,
   "metadata": {
    "colab": {},
    "colab_type": "code",
    "id": "cFgUqfcQGghB"
   },
   "outputs": [],
   "source": [
    "# try checking for one of the states - that which action your agent thinks is the best  -----This will not be evaluated"
   ]
  },
  {
   "cell_type": "code",
   "execution_count": 14,
   "metadata": {
    "colab": {},
    "colab_type": "code",
    "id": "F1tnDJWkGgg9"
   },
   "outputs": [
    {
     "data": {
      "text/plain": [
       "1970653"
      ]
     },
     "execution_count": 14,
     "metadata": {},
     "output_type": "execute_result"
    }
   ],
   "source": [
    "len(Q_dict)"
   ]
  },
  {
   "cell_type": "code",
   "execution_count": 15,
   "metadata": {},
   "outputs": [
    {
     "data": {
      "text/plain": [
       "{(3, 1): -0.001, (3, 7): 0, (5, 1): 0, (5, 7): 0, (7, 1): 0, (7, 7): 0}"
      ]
     },
     "execution_count": 15,
     "metadata": {},
     "output_type": "execute_result"
    }
   ],
   "source": [
    "Q_dict['3-6-4-x-8-x-9-x-5']"
   ]
  },
  {
   "cell_type": "markdown",
   "metadata": {
    "colab_type": "text",
    "id": "KGPZEQDFGghG"
   },
   "source": [
    "### Check the states tracked for Q-values convergence\n",
    "(non-evaluative)"
   ]
  },
  {
   "cell_type": "code",
   "execution_count": 16,
   "metadata": {
    "colab": {},
    "colab_type": "code",
    "id": "9s1Tvz8HGghH"
   },
   "outputs": [],
   "source": [
    "# Write the code for plotting the graphs for state-action pairs tracked"
   ]
  },
  {
   "cell_type": "code",
   "execution_count": 17,
   "metadata": {
    "colab": {},
    "colab_type": "code",
    "id": "pVQInsg7GghL"
   },
   "outputs": [
    {
     "data": {
      "image/png": "[encoded data removed]",
      "text/plain": [
       "<Figure size 1080x720 with 4 Axes>"
      ]
     },
     "metadata": {
      "needs_background": "light"
     },
     "output_type": "display_data"
    }
   ],
   "source": [
    "plt.figure(0, figsize=(15,10))\n",
    "\n",
    "xaxis = np.asarray(range(0, len(States_track['x-x-x-x-x-x-x-x-x'][(1,1)])))\n",
    "plt.subplot(221)\n",
    "plt.title('States_track[''x-x-x-x-x-x-x-x-x''][(1,1)]) - state-action pair tracking')\n",
    "plt.plot(xaxis,np.asarray(States_track['x-x-x-x-x-x-x-x-x'][(1,1)]))\n",
    "\n",
    "xaxis = np.asarray(range(0, len(States_track['x-x-x-x-x-x-x-x-x'][(2,3)])))\n",
    "plt.subplot(222)\n",
    "plt.title('States_track[''x-x-x-x-x-x-x-x-x''][(2,3)]) - state-action pair tracking')\n",
    "plt.plot(xaxis,np.asarray(States_track['x-x-x-x-x-x-x-x-x'][(2,3)]))\n",
    "\n",
    "xaxis = np.asarray(range(0, len(States_track['x-8-x-x-x-1-x-x-x'][(4,5)])))\n",
    "plt.subplot(223)\n",
    "plt.title('States_track[''x-8-x-x-x-1-x-x-x''][(4,5)]) - state-action pair tracking')\n",
    "plt.plot(xaxis,np.asarray(States_track['x-8-x-x-x-1-x-x-x'][(4,5)]))\n",
    "\n",
    "xaxis = np.asarray(range(0, len(States_track['x-4-5-x-x-x-x-x-x'][(5,3)])))\n",
    "plt.subplot(224)\n",
    "plt.title('States_track[''x-4-5-x-x-x-x-x-x''][(5,3)]) - state-action pair tracking')\n",
    "plt.plot(xaxis,np.asarray(States_track['x-4-5-x-x-x-x-x-x'][(5,3)]))\n",
    "\n",
    "plt.show()"
   ]
  },
  {
   "cell_type": "markdown",
   "metadata": {
    "colab_type": "text",
    "id": "b2Opp8_NITkC"
   },
   "source": [
    "### Epsilon - decay check"
   ]
  },
  {
   "cell_type": "code",
   "execution_count": 18,
   "metadata": {
    "colab": {},
    "colab_type": "code",
    "id": "gQ_D_JsuGghR"
   },
   "outputs": [],
   "source": [
    "max_epsilon = 1.0\n",
    "min_epsilon = 0.001\n",
    "time = np.arange(0,5000000)\n",
    "epsilon = []\n",
    "for i in range(0,5000000):\n",
    "    epsilon.append(min_epsilon + (max_epsilon - min_epsilon) * np.exp(-0.000001*i))"
   ]
  },
  {
   "cell_type": "code",
   "execution_count": 19,
   "metadata": {
    "colab": {
     "base_uri": "https://localhost:8080/",
     "height": 347
    },
    "colab_type": "code",
    "id": "J7c2xADQGghV",
    "outputId": "cb60fce3-570b-45fb-bd83-abde3d13b273"
   },
   "outputs": [
    {
     "data": {
      "image/png": "[encoded data removed]",
      "text/plain": [
       "<Figure size 432x288 with 1 Axes>"
      ]
     },
     "metadata": {
      "needs_background": "light"
     },
     "output_type": "display_data"
    }
   ],
   "source": [
    "plt.plot(time, epsilon)\n",
    "plt.show()"
   ]
  }
 ],
 "metadata": {
  "colab": {
   "collapsed_sections": [],
   "name": "TicTacToe_Agent.ipynb",
   "provenance": [],
   "version": "0.3.2"
  },
  "kernelspec": {
   "display_name": "Python 3",
   "language": "python",
   "name": "python3"
  },
  "language_info": {
   "codemirror_mode": {
    "name": "ipython",
    "version": 3
   },
   "file_extension": ".py",
   "mimetype": "text/x-python",
   "name": "python",
   "nbconvert_exporter": "python",
   "pygments_lexer": "ipython3",
   "version": "3.8.5"
  }
 },
 "nbformat": 4,
 "nbformat_minor": 1
}
